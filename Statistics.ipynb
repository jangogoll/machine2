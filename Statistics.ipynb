{
 "cells": [
  {
   "cell_type": "code",
   "execution_count": 1,
   "metadata": {},
   "outputs": [],
   "source": [
    "import pandas as pd\n",
    "import matplotlib.pyplot as plt\n",
    "import numpy as np\n",
    "from scipy import stats\n",
    "import copy\n",
    "import statsmodels.api as sm\n"
   ]
  },
  {
   "cell_type": "markdown",
   "metadata": {},
   "source": [
    "# Load data and form subgroups depending on treatment"
   ]
  },
  {
   "cell_type": "code",
   "execution_count": 2,
   "metadata": {},
   "outputs": [],
   "source": [
    "data = pd.read_csv(\"data.csv\", sep = \",\")"
   ]
  },
  {
   "cell_type": "code",
   "execution_count": 20,
   "metadata": {},
   "outputs": [
    {
     "data": {
      "text/html": [
       "<div>\n",
       "<style scoped>\n",
       "    .dataframe tbody tr th:only-of-type {\n",
       "        vertical-align: middle;\n",
       "    }\n",
       "\n",
       "    .dataframe tbody tr th {\n",
       "        vertical-align: top;\n",
       "    }\n",
       "\n",
       "    .dataframe thead th {\n",
       "        text-align: right;\n",
       "    }\n",
       "</style>\n",
       "<table border=\"1\" class=\"dataframe\">\n",
       "  <thead>\n",
       "    <tr style=\"text-align: right;\">\n",
       "      <th></th>\n",
       "      <th>Subject</th>\n",
       "      <th>Self_Assessment</th>\n",
       "      <th>Error</th>\n",
       "      <th>Risk</th>\n",
       "      <th>Del_good</th>\n",
       "      <th>Self_good</th>\n",
       "      <th>Del_bad</th>\n",
       "      <th>Self_bad</th>\n",
       "      <th>Machine</th>\n",
       "      <th>Del</th>\n",
       "    </tr>\n",
       "  </thead>\n",
       "  <tbody>\n",
       "    <tr>\n",
       "      <th>0</th>\n",
       "      <td>1</td>\n",
       "      <td>4</td>\n",
       "      <td>4</td>\n",
       "      <td>8</td>\n",
       "      <td>40</td>\n",
       "      <td>40</td>\n",
       "      <td>-10</td>\n",
       "      <td>0</td>\n",
       "      <td>0</td>\n",
       "      <td>0</td>\n",
       "    </tr>\n",
       "    <tr>\n",
       "      <th>1</th>\n",
       "      <td>2</td>\n",
       "      <td>4</td>\n",
       "      <td>6</td>\n",
       "      <td>6</td>\n",
       "      <td>40</td>\n",
       "      <td>40</td>\n",
       "      <td>40</td>\n",
       "      <td>40</td>\n",
       "      <td>0</td>\n",
       "      <td>1</td>\n",
       "    </tr>\n",
       "    <tr>\n",
       "      <th>2</th>\n",
       "      <td>3</td>\n",
       "      <td>5</td>\n",
       "      <td>2</td>\n",
       "      <td>8</td>\n",
       "      <td>40</td>\n",
       "      <td>40</td>\n",
       "      <td>40</td>\n",
       "      <td>0</td>\n",
       "      <td>0</td>\n",
       "      <td>1</td>\n",
       "    </tr>\n",
       "    <tr>\n",
       "      <th>3</th>\n",
       "      <td>4</td>\n",
       "      <td>3</td>\n",
       "      <td>2</td>\n",
       "      <td>8</td>\n",
       "      <td>40</td>\n",
       "      <td>40</td>\n",
       "      <td>40</td>\n",
       "      <td>40</td>\n",
       "      <td>0</td>\n",
       "      <td>0</td>\n",
       "    </tr>\n",
       "    <tr>\n",
       "      <th>4</th>\n",
       "      <td>5</td>\n",
       "      <td>3</td>\n",
       "      <td>2</td>\n",
       "      <td>1</td>\n",
       "      <td>0</td>\n",
       "      <td>40</td>\n",
       "      <td>0</td>\n",
       "      <td>0</td>\n",
       "      <td>0</td>\n",
       "      <td>0</td>\n",
       "    </tr>\n",
       "  </tbody>\n",
       "</table>\n",
       "</div>"
      ],
      "text/plain": [
       "   Subject  Self_Assessment  Error  Risk  Del_good  Self_good  Del_bad  \\\n",
       "0        1                4      4     8        40         40      -10   \n",
       "1        2                4      6     6        40         40       40   \n",
       "2        3                5      2     8        40         40       40   \n",
       "3        4                3      2     8        40         40       40   \n",
       "4        5                3      2     1         0         40        0   \n",
       "\n",
       "   Self_bad  Machine  Del  \n",
       "0         0        0    0  \n",
       "1        40        0    1  \n",
       "2         0        0    1  \n",
       "3        40        0    0  \n",
       "4         0        0    0  "
      ]
     },
     "execution_count": 20,
     "metadata": {},
     "output_type": "execute_result"
    }
   ],
   "source": [
    "data.head() #check if everything went well"
   ]
  },
  {
   "cell_type": "code",
   "execution_count": 5,
   "metadata": {},
   "outputs": [],
   "source": [
    "ma = data.loc[data['Machine'] == 1]\n",
    "hu = data.loc[data['Machine'] == 0]"
   ]
  },
  {
   "cell_type": "markdown",
   "metadata": {},
   "source": [
    "# Delegation and reward human treatment\n"
   ]
  },
  {
   "cell_type": "code",
   "execution_count": 8,
   "metadata": {
    "scrolled": true
   },
   "outputs": [
    {
     "data": {
      "text/plain": [
       "7.2894736842105265"
      ]
     },
     "execution_count": 8,
     "metadata": {},
     "output_type": "execute_result"
    }
   ],
   "source": [
    "hu[\"Self_bad\"].mean()"
   ]
  },
  {
   "cell_type": "code",
   "execution_count": 9,
   "metadata": {},
   "outputs": [
    {
     "data": {
      "text/plain": [
       "8.263157894736842"
      ]
     },
     "execution_count": 9,
     "metadata": {},
     "output_type": "execute_result"
    }
   ],
   "source": [
    "hu[\"Del_bad\"].mean()"
   ]
  },
  {
   "cell_type": "code",
   "execution_count": 10,
   "metadata": {},
   "outputs": [
    {
     "name": "stdout",
     "output_type": "stream",
     "text": [
      "Statistics=-0.588, p=0.559\n"
     ]
    }
   ],
   "source": [
    "stat, p = stats.ttest_rel(hu[\"Self_bad\"], hu[\"Del_bad\"])\n",
    "print('Statistics=%.3f, p=%.3f' % (stat, p))"
   ]
  },
  {
   "cell_type": "markdown",
   "metadata": {},
   "source": [
    "# Delegation and reward machine treatment"
   ]
  },
  {
   "cell_type": "code",
   "execution_count": 12,
   "metadata": {},
   "outputs": [
    {
     "data": {
      "text/plain": [
       "8.534246575342467"
      ]
     },
     "execution_count": 12,
     "metadata": {},
     "output_type": "execute_result"
    }
   ],
   "source": [
    "ma[\"Self_bad\"].mean()"
   ]
  },
  {
   "cell_type": "code",
   "execution_count": 13,
   "metadata": {},
   "outputs": [
    {
     "data": {
      "text/plain": [
       "12.95890410958904"
      ]
     },
     "execution_count": 13,
     "metadata": {},
     "output_type": "execute_result"
    }
   ],
   "source": [
    "ma[\"Del_bad\"].mean()"
   ]
  },
  {
   "cell_type": "code",
   "execution_count": 14,
   "metadata": {},
   "outputs": [
    {
     "name": "stdout",
     "output_type": "stream",
     "text": [
      "Statistics=-2.081, p=0.041\n"
     ]
    }
   ],
   "source": [
    "stat, p = stats.ttest_rel(ma[\"Self_bad\"], ma[\"Del_bad\"])\n",
    "print('Statistics=%.3f, p=%.3f' % (stat, p))"
   ]
  },
  {
   "cell_type": "code",
   "execution_count": null,
   "metadata": {},
   "outputs": [],
   "source": []
  },
  {
   "cell_type": "markdown",
   "metadata": {},
   "source": [
    "# Binominal regression (Dep: Delegation)\n"
   ]
  },
  {
   "cell_type": "code",
   "execution_count": 15,
   "metadata": {},
   "outputs": [
    {
     "data": {
      "text/html": [
       "<table class=\"simpletable\">\n",
       "<caption>Generalized Linear Model Regression Results</caption>\n",
       "<tr>\n",
       "  <th>Dep. Variable:</th>         <td>Del</td>       <th>  No. Observations:  </th>  <td>   149</td>  \n",
       "</tr>\n",
       "<tr>\n",
       "  <th>Model:</th>                 <td>GLM</td>       <th>  Df Residuals:      </th>  <td>   145</td>  \n",
       "</tr>\n",
       "<tr>\n",
       "  <th>Model Family:</th>       <td>Binomial</td>     <th>  Df Model:          </th>  <td>     3</td>  \n",
       "</tr>\n",
       "<tr>\n",
       "  <th>Link Function:</th>        <td>logit</td>      <th>  Scale:             </th> <td>  1.0000</td> \n",
       "</tr>\n",
       "<tr>\n",
       "  <th>Method:</th>               <td>IRLS</td>       <th>  Log-Likelihood:    </th> <td> -91.407</td> \n",
       "</tr>\n",
       "<tr>\n",
       "  <th>Date:</th>           <td>Tue, 27 Oct 2020</td> <th>  Deviance:          </th> <td>  182.81</td> \n",
       "</tr>\n",
       "<tr>\n",
       "  <th>Time:</th>               <td>13:36:51</td>     <th>  Pearson chi2:      </th>  <td>  156.</td>  \n",
       "</tr>\n",
       "<tr>\n",
       "  <th>No. Iterations:</th>         <td>4</td>        <th>  Covariance Type:   </th> <td>nonrobust</td>\n",
       "</tr>\n",
       "</table>\n",
       "<table class=\"simpletable\">\n",
       "<tr>\n",
       "         <td></td>            <th>coef</th>     <th>std err</th>      <th>z</th>      <th>P>|z|</th>  <th>[0.025</th>    <th>0.975]</th>  \n",
       "</tr>\n",
       "<tr>\n",
       "  <th>Intercept</th>       <td>   -3.2254</td> <td>    0.795</td> <td>   -4.055</td> <td> 0.000</td> <td>   -4.784</td> <td>   -1.666</td>\n",
       "</tr>\n",
       "<tr>\n",
       "  <th>Self_Assessment</th> <td>    0.4092</td> <td>    0.105</td> <td>    3.906</td> <td> 0.000</td> <td>    0.204</td> <td>    0.615</td>\n",
       "</tr>\n",
       "<tr>\n",
       "  <th>Machine</th>         <td>    0.3228</td> <td>    0.365</td> <td>    0.885</td> <td> 0.376</td> <td>   -0.392</td> <td>    1.038</td>\n",
       "</tr>\n",
       "<tr>\n",
       "  <th>Risk</th>            <td>    0.1806</td> <td>    0.076</td> <td>    2.383</td> <td> 0.017</td> <td>    0.032</td> <td>    0.329</td>\n",
       "</tr>\n",
       "</table>"
      ],
      "text/plain": [
       "<class 'statsmodels.iolib.summary.Summary'>\n",
       "\"\"\"\n",
       "                 Generalized Linear Model Regression Results                  \n",
       "==============================================================================\n",
       "Dep. Variable:                    Del   No. Observations:                  149\n",
       "Model:                            GLM   Df Residuals:                      145\n",
       "Model Family:                Binomial   Df Model:                            3\n",
       "Link Function:                  logit   Scale:                          1.0000\n",
       "Method:                          IRLS   Log-Likelihood:                -91.407\n",
       "Date:                Tue, 27 Oct 2020   Deviance:                       182.81\n",
       "Time:                        13:36:51   Pearson chi2:                     156.\n",
       "No. Iterations:                     4   Covariance Type:             nonrobust\n",
       "===================================================================================\n",
       "                      coef    std err          z      P>|z|      [0.025      0.975]\n",
       "-----------------------------------------------------------------------------------\n",
       "Intercept          -3.2254      0.795     -4.055      0.000      -4.784      -1.666\n",
       "Self_Assessment     0.4092      0.105      3.906      0.000       0.204       0.615\n",
       "Machine             0.3228      0.365      0.885      0.376      -0.392       1.038\n",
       "Risk                0.1806      0.076      2.383      0.017       0.032       0.329\n",
       "===================================================================================\n",
       "\"\"\""
      ]
     },
     "execution_count": 15,
     "metadata": {},
     "output_type": "execute_result"
    }
   ],
   "source": [
    "model = sm.GLM.from_formula(\"Del ~ Self_Assessment + Machine + Risk\", family=sm.families.Binomial(), data=data)\n",
    "result = model.fit()\n",
    "result.summary()"
   ]
  },
  {
   "cell_type": "code",
   "execution_count": 16,
   "metadata": {},
   "outputs": [],
   "source": [
    "#send this cool table to tex because laziness"
   ]
  },
  {
   "cell_type": "code",
   "execution_count": null,
   "metadata": {},
   "outputs": [],
   "source": [
    "beginningtex = \"\"\"\\\\documentclass{report}\n",
    "\\\\usepackage{booktabs}\n",
    "\\\\begin{document}\"\"\"\n",
    "endtex = \"\\end{document}\"\n",
    "\n",
    "f = open('myreg.tex', 'w')\n",
    "f.write(beginningtex)\n",
    "f.write(result.summary().as_latex())\n",
    "f.write(endtex)\n",
    "f.close()"
   ]
  },
  {
   "cell_type": "markdown",
   "metadata": {},
   "source": [
    "# Linear Regression (Dep: Self Assessment)"
   ]
  },
  {
   "cell_type": "code",
   "execution_count": 17,
   "metadata": {},
   "outputs": [],
   "source": [
    "from statsmodels.formula.api import ols"
   ]
  },
  {
   "cell_type": "code",
   "execution_count": 18,
   "metadata": {},
   "outputs": [
    {
     "name": "stdout",
     "output_type": "stream",
     "text": [
      "                            OLS Regression Results                            \n",
      "==============================================================================\n",
      "Dep. Variable:        Self_Assessment   R-squared:                       0.302\n",
      "Model:                            OLS   Adj. R-squared:                  0.288\n",
      "Method:                 Least Squares   F-statistic:                     20.94\n",
      "Date:                Tue, 27 Oct 2020   Prob (F-statistic):           2.50e-11\n",
      "Time:                        13:38:59   Log-Likelihood:                -280.35\n",
      "No. Observations:                 149   AIC:                             568.7\n",
      "Df Residuals:                     145   BIC:                             580.7\n",
      "Df Model:                           3                                         \n",
      "Covariance Type:            nonrobust                                         \n",
      "=================================================================================\n",
      "                    coef    std err          t      P>|t|      [0.025      0.975]\n",
      "---------------------------------------------------------------------------------\n",
      "Intercept         3.5730      0.359      9.959      0.000       2.864       4.282\n",
      "Error             0.2507      0.079      3.185      0.002       0.095       0.406\n",
      "Machine          -0.8278      0.553     -1.497      0.136      -1.921       0.265\n",
      "Error:Machine     0.3104      0.115      2.706      0.008       0.084       0.537\n",
      "==============================================================================\n",
      "Omnibus:                        1.072   Durbin-Watson:                   2.014\n",
      "Prob(Omnibus):                  0.585   Jarque-Bera (JB):                1.056\n",
      "Skew:                           0.201   Prob(JB):                        0.590\n",
      "Kurtosis:                       2.904   Cond. No.                         26.8\n",
      "==============================================================================\n",
      "\n",
      "Warnings:\n",
      "[1] Standard Errors assume that the covariance matrix of the errors is correctly specified.\n"
     ]
    }
   ],
   "source": [
    "model = ols(\"Self_Assessment ~ Error * Machine\", data).fit()\n",
    "print(model.summary())"
   ]
  },
  {
   "cell_type": "code",
   "execution_count": 19,
   "metadata": {},
   "outputs": [],
   "source": [
    "#send this cool table to tex because laziness"
   ]
  },
  {
   "cell_type": "code",
   "execution_count": null,
   "metadata": {},
   "outputs": [],
   "source": [
    "beginningtex = \"\"\"\\\\documentclass{report}\n",
    "\\\\usepackage{booktabs}\n",
    "\\\\begin{document}\"\"\"\n",
    "endtex = \"\\end{document}\"\n",
    "\n",
    "f = open('myreg_lin.tex', 'w')\n",
    "f.write(beginningtex)\n",
    "f.write(model.summary().as_latex())\n",
    "f.write(endtex)\n",
    "f.close()"
   ]
  }
 ],
 "metadata": {
  "kernelspec": {
   "display_name": "Python 3",
   "language": "python",
   "name": "python3"
  },
  "language_info": {
   "codemirror_mode": {
    "name": "ipython",
    "version": 3
   },
   "file_extension": ".py",
   "mimetype": "text/x-python",
   "name": "python",
   "nbconvert_exporter": "python",
   "pygments_lexer": "ipython3",
   "version": "3.7.3"
  }
 },
 "nbformat": 4,
 "nbformat_minor": 2
}
